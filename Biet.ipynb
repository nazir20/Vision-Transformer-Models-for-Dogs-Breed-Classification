{
  "nbformat": 4,
  "nbformat_minor": 0,
  "metadata": {
    "colab": {
      "provenance": [],
      "gpuType": "L4"
    },
    "kernelspec": {
      "name": "python3",
      "display_name": "Python 3"
    },
    "language_info": {
      "name": "python"
    },
    "accelerator": "GPU",
    "widgets": {
      "application/vnd.jupyter.widget-state+json": {
        "6036cb527c6e44b29e1b3f5f1ec7a8f9": {
          "model_module": "@jupyter-widgets/controls",
          "model_name": "HBoxModel",
          "model_module_version": "1.5.0",
          "state": {
            "_dom_classes": [],
            "_model_module": "@jupyter-widgets/controls",
            "_model_module_version": "1.5.0",
            "_model_name": "HBoxModel",
            "_view_count": null,
            "_view_module": "@jupyter-widgets/controls",
            "_view_module_version": "1.5.0",
            "_view_name": "HBoxView",
            "box_style": "",
            "children": [
              "IPY_MODEL_d23b4ab188bd479bad45f9efdd13f584",
              "IPY_MODEL_1aacba5fd97e4388be607ce60e0356e8",
              "IPY_MODEL_f4b01925ae1c4d62a07b1eb14aee3d97"
            ],
            "layout": "IPY_MODEL_02803e3331e8429d94ef4f16c001536f"
          }
        },
        "d23b4ab188bd479bad45f9efdd13f584": {
          "model_module": "@jupyter-widgets/controls",
          "model_name": "HTMLModel",
          "model_module_version": "1.5.0",
          "state": {
            "_dom_classes": [],
            "_model_module": "@jupyter-widgets/controls",
            "_model_module_version": "1.5.0",
            "_model_name": "HTMLModel",
            "_view_count": null,
            "_view_module": "@jupyter-widgets/controls",
            "_view_module_version": "1.5.0",
            "_view_name": "HTMLView",
            "description": "",
            "description_tooltip": null,
            "layout": "IPY_MODEL_d675a95d971d4c33b3b1797c52088a1d",
            "placeholder": "​",
            "style": "IPY_MODEL_9fae78328b34454887a6bcebd227ad06",
            "value": "config.json: 100%"
          }
        },
        "1aacba5fd97e4388be607ce60e0356e8": {
          "model_module": "@jupyter-widgets/controls",
          "model_name": "FloatProgressModel",
          "model_module_version": "1.5.0",
          "state": {
            "_dom_classes": [],
            "_model_module": "@jupyter-widgets/controls",
            "_model_module_version": "1.5.0",
            "_model_name": "FloatProgressModel",
            "_view_count": null,
            "_view_module": "@jupyter-widgets/controls",
            "_view_module_version": "1.5.0",
            "_view_name": "ProgressView",
            "bar_style": "success",
            "description": "",
            "description_tooltip": null,
            "layout": "IPY_MODEL_98f94840bee643c797be8ea3cb14c512",
            "max": 69890,
            "min": 0,
            "orientation": "horizontal",
            "style": "IPY_MODEL_d4c154a5e3fc4fcda726abf927830aad",
            "value": 69890
          }
        },
        "f4b01925ae1c4d62a07b1eb14aee3d97": {
          "model_module": "@jupyter-widgets/controls",
          "model_name": "HTMLModel",
          "model_module_version": "1.5.0",
          "state": {
            "_dom_classes": [],
            "_model_module": "@jupyter-widgets/controls",
            "_model_module_version": "1.5.0",
            "_model_name": "HTMLModel",
            "_view_count": null,
            "_view_module": "@jupyter-widgets/controls",
            "_view_module_version": "1.5.0",
            "_view_name": "HTMLView",
            "description": "",
            "description_tooltip": null,
            "layout": "IPY_MODEL_4554a5ddfb774d0896e657afb1a3c409",
            "placeholder": "​",
            "style": "IPY_MODEL_0294c455db064dee889705a3d9fbbb3c",
            "value": " 69.9k/69.9k [00:00&lt;00:00, 5.06MB/s]"
          }
        },
        "02803e3331e8429d94ef4f16c001536f": {
          "model_module": "@jupyter-widgets/base",
          "model_name": "LayoutModel",
          "model_module_version": "1.2.0",
          "state": {
            "_model_module": "@jupyter-widgets/base",
            "_model_module_version": "1.2.0",
            "_model_name": "LayoutModel",
            "_view_count": null,
            "_view_module": "@jupyter-widgets/base",
            "_view_module_version": "1.2.0",
            "_view_name": "LayoutView",
            "align_content": null,
            "align_items": null,
            "align_self": null,
            "border": null,
            "bottom": null,
            "display": null,
            "flex": null,
            "flex_flow": null,
            "grid_area": null,
            "grid_auto_columns": null,
            "grid_auto_flow": null,
            "grid_auto_rows": null,
            "grid_column": null,
            "grid_gap": null,
            "grid_row": null,
            "grid_template_areas": null,
            "grid_template_columns": null,
            "grid_template_rows": null,
            "height": null,
            "justify_content": null,
            "justify_items": null,
            "left": null,
            "margin": null,
            "max_height": null,
            "max_width": null,
            "min_height": null,
            "min_width": null,
            "object_fit": null,
            "object_position": null,
            "order": null,
            "overflow": null,
            "overflow_x": null,
            "overflow_y": null,
            "padding": null,
            "right": null,
            "top": null,
            "visibility": null,
            "width": null
          }
        },
        "d675a95d971d4c33b3b1797c52088a1d": {
          "model_module": "@jupyter-widgets/base",
          "model_name": "LayoutModel",
          "model_module_version": "1.2.0",
          "state": {
            "_model_module": "@jupyter-widgets/base",
            "_model_module_version": "1.2.0",
            "_model_name": "LayoutModel",
            "_view_count": null,
            "_view_module": "@jupyter-widgets/base",
            "_view_module_version": "1.2.0",
            "_view_name": "LayoutView",
            "align_content": null,
            "align_items": null,
            "align_self": null,
            "border": null,
            "bottom": null,
            "display": null,
            "flex": null,
            "flex_flow": null,
            "grid_area": null,
            "grid_auto_columns": null,
            "grid_auto_flow": null,
            "grid_auto_rows": null,
            "grid_column": null,
            "grid_gap": null,
            "grid_row": null,
            "grid_template_areas": null,
            "grid_template_columns": null,
            "grid_template_rows": null,
            "height": null,
            "justify_content": null,
            "justify_items": null,
            "left": null,
            "margin": null,
            "max_height": null,
            "max_width": null,
            "min_height": null,
            "min_width": null,
            "object_fit": null,
            "object_position": null,
            "order": null,
            "overflow": null,
            "overflow_x": null,
            "overflow_y": null,
            "padding": null,
            "right": null,
            "top": null,
            "visibility": null,
            "width": null
          }
        },
        "9fae78328b34454887a6bcebd227ad06": {
          "model_module": "@jupyter-widgets/controls",
          "model_name": "DescriptionStyleModel",
          "model_module_version": "1.5.0",
          "state": {
            "_model_module": "@jupyter-widgets/controls",
            "_model_module_version": "1.5.0",
            "_model_name": "DescriptionStyleModel",
            "_view_count": null,
            "_view_module": "@jupyter-widgets/base",
            "_view_module_version": "1.2.0",
            "_view_name": "StyleView",
            "description_width": ""
          }
        },
        "98f94840bee643c797be8ea3cb14c512": {
          "model_module": "@jupyter-widgets/base",
          "model_name": "LayoutModel",
          "model_module_version": "1.2.0",
          "state": {
            "_model_module": "@jupyter-widgets/base",
            "_model_module_version": "1.2.0",
            "_model_name": "LayoutModel",
            "_view_count": null,
            "_view_module": "@jupyter-widgets/base",
            "_view_module_version": "1.2.0",
            "_view_name": "LayoutView",
            "align_content": null,
            "align_items": null,
            "align_self": null,
            "border": null,
            "bottom": null,
            "display": null,
            "flex": null,
            "flex_flow": null,
            "grid_area": null,
            "grid_auto_columns": null,
            "grid_auto_flow": null,
            "grid_auto_rows": null,
            "grid_column": null,
            "grid_gap": null,
            "grid_row": null,
            "grid_template_areas": null,
            "grid_template_columns": null,
            "grid_template_rows": null,
            "height": null,
            "justify_content": null,
            "justify_items": null,
            "left": null,
            "margin": null,
            "max_height": null,
            "max_width": null,
            "min_height": null,
            "min_width": null,
            "object_fit": null,
            "object_position": null,
            "order": null,
            "overflow": null,
            "overflow_x": null,
            "overflow_y": null,
            "padding": null,
            "right": null,
            "top": null,
            "visibility": null,
            "width": null
          }
        },
        "d4c154a5e3fc4fcda726abf927830aad": {
          "model_module": "@jupyter-widgets/controls",
          "model_name": "ProgressStyleModel",
          "model_module_version": "1.5.0",
          "state": {
            "_model_module": "@jupyter-widgets/controls",
            "_model_module_version": "1.5.0",
            "_model_name": "ProgressStyleModel",
            "_view_count": null,
            "_view_module": "@jupyter-widgets/base",
            "_view_module_version": "1.2.0",
            "_view_name": "StyleView",
            "bar_color": null,
            "description_width": ""
          }
        },
        "4554a5ddfb774d0896e657afb1a3c409": {
          "model_module": "@jupyter-widgets/base",
          "model_name": "LayoutModel",
          "model_module_version": "1.2.0",
          "state": {
            "_model_module": "@jupyter-widgets/base",
            "_model_module_version": "1.2.0",
            "_model_name": "LayoutModel",
            "_view_count": null,
            "_view_module": "@jupyter-widgets/base",
            "_view_module_version": "1.2.0",
            "_view_name": "LayoutView",
            "align_content": null,
            "align_items": null,
            "align_self": null,
            "border": null,
            "bottom": null,
            "display": null,
            "flex": null,
            "flex_flow": null,
            "grid_area": null,
            "grid_auto_columns": null,
            "grid_auto_flow": null,
            "grid_auto_rows": null,
            "grid_column": null,
            "grid_gap": null,
            "grid_row": null,
            "grid_template_areas": null,
            "grid_template_columns": null,
            "grid_template_rows": null,
            "height": null,
            "justify_content": null,
            "justify_items": null,
            "left": null,
            "margin": null,
            "max_height": null,
            "max_width": null,
            "min_height": null,
            "min_width": null,
            "object_fit": null,
            "object_position": null,
            "order": null,
            "overflow": null,
            "overflow_x": null,
            "overflow_y": null,
            "padding": null,
            "right": null,
            "top": null,
            "visibility": null,
            "width": null
          }
        },
        "0294c455db064dee889705a3d9fbbb3c": {
          "model_module": "@jupyter-widgets/controls",
          "model_name": "DescriptionStyleModel",
          "model_module_version": "1.5.0",
          "state": {
            "_model_module": "@jupyter-widgets/controls",
            "_model_module_version": "1.5.0",
            "_model_name": "DescriptionStyleModel",
            "_view_count": null,
            "_view_module": "@jupyter-widgets/base",
            "_view_module_version": "1.2.0",
            "_view_name": "StyleView",
            "description_width": ""
          }
        },
        "81ff2a4c5efc407caa1f752a5c4f9445": {
          "model_module": "@jupyter-widgets/controls",
          "model_name": "HBoxModel",
          "model_module_version": "1.5.0",
          "state": {
            "_dom_classes": [],
            "_model_module": "@jupyter-widgets/controls",
            "_model_module_version": "1.5.0",
            "_model_name": "HBoxModel",
            "_view_count": null,
            "_view_module": "@jupyter-widgets/controls",
            "_view_module_version": "1.5.0",
            "_view_name": "HBoxView",
            "box_style": "",
            "children": [
              "IPY_MODEL_2fe9c69ccd154fb1847b35c62501b886",
              "IPY_MODEL_afe3b2ad234b4537a74982345a81570a",
              "IPY_MODEL_2856d1cfa2c9465c97dd46247d98d54a"
            ],
            "layout": "IPY_MODEL_cbbc0932df3b48a6b84ce3f23ad127cf"
          }
        },
        "2fe9c69ccd154fb1847b35c62501b886": {
          "model_module": "@jupyter-widgets/controls",
          "model_name": "HTMLModel",
          "model_module_version": "1.5.0",
          "state": {
            "_dom_classes": [],
            "_model_module": "@jupyter-widgets/controls",
            "_model_module_version": "1.5.0",
            "_model_name": "HTMLModel",
            "_view_count": null,
            "_view_module": "@jupyter-widgets/controls",
            "_view_module_version": "1.5.0",
            "_view_name": "HTMLView",
            "description": "",
            "description_tooltip": null,
            "layout": "IPY_MODEL_1d2205520c8b410881e8b1dfa44fee73",
            "placeholder": "​",
            "style": "IPY_MODEL_4df71f814c424c0fb26347b6d214c029",
            "value": "pytorch_model.bin: 100%"
          }
        },
        "afe3b2ad234b4537a74982345a81570a": {
          "model_module": "@jupyter-widgets/controls",
          "model_name": "FloatProgressModel",
          "model_module_version": "1.5.0",
          "state": {
            "_dom_classes": [],
            "_model_module": "@jupyter-widgets/controls",
            "_model_module_version": "1.5.0",
            "_model_name": "FloatProgressModel",
            "_view_count": null,
            "_view_module": "@jupyter-widgets/controls",
            "_view_module_version": "1.5.0",
            "_view_name": "ProgressView",
            "bar_style": "success",
            "description": "",
            "description_tooltip": null,
            "layout": "IPY_MODEL_8dba15eae68f4651b8800afd192c60bc",
            "max": 1225352803,
            "min": 0,
            "orientation": "horizontal",
            "style": "IPY_MODEL_8975221b596640b3b9ee631b6d3dd37f",
            "value": 1225352803
          }
        },
        "2856d1cfa2c9465c97dd46247d98d54a": {
          "model_module": "@jupyter-widgets/controls",
          "model_name": "HTMLModel",
          "model_module_version": "1.5.0",
          "state": {
            "_dom_classes": [],
            "_model_module": "@jupyter-widgets/controls",
            "_model_module_version": "1.5.0",
            "_model_name": "HTMLModel",
            "_view_count": null,
            "_view_module": "@jupyter-widgets/controls",
            "_view_module_version": "1.5.0",
            "_view_name": "HTMLView",
            "description": "",
            "description_tooltip": null,
            "layout": "IPY_MODEL_1aa948d609e54ca8a75f995681b4c1f8",
            "placeholder": "​",
            "style": "IPY_MODEL_b706f49fa18748aaa34785efb8b47c2d",
            "value": " 1.23G/1.23G [01:12&lt;00:00, 18.2MB/s]"
          }
        },
        "cbbc0932df3b48a6b84ce3f23ad127cf": {
          "model_module": "@jupyter-widgets/base",
          "model_name": "LayoutModel",
          "model_module_version": "1.2.0",
          "state": {
            "_model_module": "@jupyter-widgets/base",
            "_model_module_version": "1.2.0",
            "_model_name": "LayoutModel",
            "_view_count": null,
            "_view_module": "@jupyter-widgets/base",
            "_view_module_version": "1.2.0",
            "_view_name": "LayoutView",
            "align_content": null,
            "align_items": null,
            "align_self": null,
            "border": null,
            "bottom": null,
            "display": null,
            "flex": null,
            "flex_flow": null,
            "grid_area": null,
            "grid_auto_columns": null,
            "grid_auto_flow": null,
            "grid_auto_rows": null,
            "grid_column": null,
            "grid_gap": null,
            "grid_row": null,
            "grid_template_areas": null,
            "grid_template_columns": null,
            "grid_template_rows": null,
            "height": null,
            "justify_content": null,
            "justify_items": null,
            "left": null,
            "margin": null,
            "max_height": null,
            "max_width": null,
            "min_height": null,
            "min_width": null,
            "object_fit": null,
            "object_position": null,
            "order": null,
            "overflow": null,
            "overflow_x": null,
            "overflow_y": null,
            "padding": null,
            "right": null,
            "top": null,
            "visibility": null,
            "width": null
          }
        },
        "1d2205520c8b410881e8b1dfa44fee73": {
          "model_module": "@jupyter-widgets/base",
          "model_name": "LayoutModel",
          "model_module_version": "1.2.0",
          "state": {
            "_model_module": "@jupyter-widgets/base",
            "_model_module_version": "1.2.0",
            "_model_name": "LayoutModel",
            "_view_count": null,
            "_view_module": "@jupyter-widgets/base",
            "_view_module_version": "1.2.0",
            "_view_name": "LayoutView",
            "align_content": null,
            "align_items": null,
            "align_self": null,
            "border": null,
            "bottom": null,
            "display": null,
            "flex": null,
            "flex_flow": null,
            "grid_area": null,
            "grid_auto_columns": null,
            "grid_auto_flow": null,
            "grid_auto_rows": null,
            "grid_column": null,
            "grid_gap": null,
            "grid_row": null,
            "grid_template_areas": null,
            "grid_template_columns": null,
            "grid_template_rows": null,
            "height": null,
            "justify_content": null,
            "justify_items": null,
            "left": null,
            "margin": null,
            "max_height": null,
            "max_width": null,
            "min_height": null,
            "min_width": null,
            "object_fit": null,
            "object_position": null,
            "order": null,
            "overflow": null,
            "overflow_x": null,
            "overflow_y": null,
            "padding": null,
            "right": null,
            "top": null,
            "visibility": null,
            "width": null
          }
        },
        "4df71f814c424c0fb26347b6d214c029": {
          "model_module": "@jupyter-widgets/controls",
          "model_name": "DescriptionStyleModel",
          "model_module_version": "1.5.0",
          "state": {
            "_model_module": "@jupyter-widgets/controls",
            "_model_module_version": "1.5.0",
            "_model_name": "DescriptionStyleModel",
            "_view_count": null,
            "_view_module": "@jupyter-widgets/base",
            "_view_module_version": "1.2.0",
            "_view_name": "StyleView",
            "description_width": ""
          }
        },
        "8dba15eae68f4651b8800afd192c60bc": {
          "model_module": "@jupyter-widgets/base",
          "model_name": "LayoutModel",
          "model_module_version": "1.2.0",
          "state": {
            "_model_module": "@jupyter-widgets/base",
            "_model_module_version": "1.2.0",
            "_model_name": "LayoutModel",
            "_view_count": null,
            "_view_module": "@jupyter-widgets/base",
            "_view_module_version": "1.2.0",
            "_view_name": "LayoutView",
            "align_content": null,
            "align_items": null,
            "align_self": null,
            "border": null,
            "bottom": null,
            "display": null,
            "flex": null,
            "flex_flow": null,
            "grid_area": null,
            "grid_auto_columns": null,
            "grid_auto_flow": null,
            "grid_auto_rows": null,
            "grid_column": null,
            "grid_gap": null,
            "grid_row": null,
            "grid_template_areas": null,
            "grid_template_columns": null,
            "grid_template_rows": null,
            "height": null,
            "justify_content": null,
            "justify_items": null,
            "left": null,
            "margin": null,
            "max_height": null,
            "max_width": null,
            "min_height": null,
            "min_width": null,
            "object_fit": null,
            "object_position": null,
            "order": null,
            "overflow": null,
            "overflow_x": null,
            "overflow_y": null,
            "padding": null,
            "right": null,
            "top": null,
            "visibility": null,
            "width": null
          }
        },
        "8975221b596640b3b9ee631b6d3dd37f": {
          "model_module": "@jupyter-widgets/controls",
          "model_name": "ProgressStyleModel",
          "model_module_version": "1.5.0",
          "state": {
            "_model_module": "@jupyter-widgets/controls",
            "_model_module_version": "1.5.0",
            "_model_name": "ProgressStyleModel",
            "_view_count": null,
            "_view_module": "@jupyter-widgets/base",
            "_view_module_version": "1.2.0",
            "_view_name": "StyleView",
            "bar_color": null,
            "description_width": ""
          }
        },
        "1aa948d609e54ca8a75f995681b4c1f8": {
          "model_module": "@jupyter-widgets/base",
          "model_name": "LayoutModel",
          "model_module_version": "1.2.0",
          "state": {
            "_model_module": "@jupyter-widgets/base",
            "_model_module_version": "1.2.0",
            "_model_name": "LayoutModel",
            "_view_count": null,
            "_view_module": "@jupyter-widgets/base",
            "_view_module_version": "1.2.0",
            "_view_name": "LayoutView",
            "align_content": null,
            "align_items": null,
            "align_self": null,
            "border": null,
            "bottom": null,
            "display": null,
            "flex": null,
            "flex_flow": null,
            "grid_area": null,
            "grid_auto_columns": null,
            "grid_auto_flow": null,
            "grid_auto_rows": null,
            "grid_column": null,
            "grid_gap": null,
            "grid_row": null,
            "grid_template_areas": null,
            "grid_template_columns": null,
            "grid_template_rows": null,
            "height": null,
            "justify_content": null,
            "justify_items": null,
            "left": null,
            "margin": null,
            "max_height": null,
            "max_width": null,
            "min_height": null,
            "min_width": null,
            "object_fit": null,
            "object_position": null,
            "order": null,
            "overflow": null,
            "overflow_x": null,
            "overflow_y": null,
            "padding": null,
            "right": null,
            "top": null,
            "visibility": null,
            "width": null
          }
        },
        "b706f49fa18748aaa34785efb8b47c2d": {
          "model_module": "@jupyter-widgets/controls",
          "model_name": "DescriptionStyleModel",
          "model_module_version": "1.5.0",
          "state": {
            "_model_module": "@jupyter-widgets/controls",
            "_model_module_version": "1.5.0",
            "_model_name": "DescriptionStyleModel",
            "_view_count": null,
            "_view_module": "@jupyter-widgets/base",
            "_view_module_version": "1.2.0",
            "_view_name": "StyleView",
            "description_width": ""
          }
        }
      }
    }
  },
  "cells": [
    {
      "cell_type": "code",
      "execution_count": null,
      "metadata": {
        "colab": {
          "base_uri": "https://localhost:8080/"
        },
        "id": "ykXqNeKK_nDw",
        "outputId": "fdae0c83-21e0-4c1f-a6ee-e849b2ff04cd"
      },
      "outputs": [
        {
          "output_type": "stream",
          "name": "stdout",
          "text": [
            "Mounted at /content/drive\n"
          ]
        }
      ],
      "source": [
        "# Connecting to MyDrive\n",
        "from google.colab import drive\n",
        "drive.mount('/content/drive')"
      ]
    },
    {
      "cell_type": "code",
      "source": [
        "# Required Libraries\n",
        "import pandas as pd\n",
        "import os\n",
        "import numpy as np\n",
        "from PIL import Image\n",
        "import warnings\n",
        "import matplotlib.pyplot as plt\n",
        "from sklearn.model_selection import train_test_split\n",
        "from sklearn.preprocessing import LabelEncoder\n",
        "\n",
        "\n",
        "import torch\n",
        "import torch.optim as optim\n",
        "import torch.nn as nn\n",
        "from torch.utils.data import Dataset , DataLoader\n",
        "from torchvision import transforms\n",
        "from torchvision.io import read_image\n",
        "from torchvision.models.swin_transformer import swin_s\n",
        "import torch.nn.functional as F\n",
        "from torchvision.utils import make_grid\n",
        "\n",
        "warnings.filterwarnings('ignore')"
      ],
      "metadata": {
        "id": "2eGQIEK0AN4t"
      },
      "execution_count": null,
      "outputs": []
    },
    {
      "cell_type": "code",
      "source": [
        "print(torch.__version__)\n",
        "device = torch.device('cuda:0' if torch.cuda.is_available() else 'cpu')\n",
        "print(device)"
      ],
      "metadata": {
        "colab": {
          "base_uri": "https://localhost:8080/"
        },
        "id": "GN5OTbc9AQ6n",
        "outputId": "e512b172-cfec-434d-f207-bb8e8d3595a2"
      },
      "execution_count": null,
      "outputs": [
        {
          "output_type": "stream",
          "name": "stdout",
          "text": [
            "2.3.0+cu121\n",
            "cuda:0\n"
          ]
        }
      ]
    },
    {
      "cell_type": "code",
      "source": [
        "# Defining the path to the directory containing the image folders\n",
        "path = \"drive/MyDrive/Nazir Folder/dogs_breed\"\n",
        "\n",
        "# Dictionary to store image paths and labels\n",
        "data = {\"imgpath\": [], \"labels\": []}\n",
        "\n",
        "category = os.listdir(path)\n",
        "for folder in category:\n",
        "    folderpath = os.path.join(path, folder)\n",
        "    filelist = os.listdir(folderpath)\n",
        "    # Iterate through each image file in the current category\n",
        "    for file in filelist:\n",
        "        fpath = os.path.join(folderpath, file)\n",
        "        # Append the image path and its corresponding label to the data dictionary\n",
        "        data[\"imgpath\"].append(fpath)\n",
        "        data[\"labels\"].append(folder)\n",
        "\n",
        "df = pd.DataFrame(data)\n",
        "lb = LabelEncoder()\n",
        "df['encoded_labels'] = lb.fit_transform(df['labels'])\n",
        "\n",
        "print(\"-------------Fetch files into a data frame-----------\")\n",
        "print(df.head())\n",
        "print(\"-------------Path to an image file------------------\")\n",
        "print(df.loc[175]['imgpath'])\n",
        "print(\"-----------Number of images per category--------------\")\n",
        "print(df.labels.value_counts())\n"
      ],
      "metadata": {
        "colab": {
          "base_uri": "https://localhost:8080/"
        },
        "id": "WcjXNx_JASNM",
        "outputId": "e8a68d3a-7c6d-4f35-a056-2d7e63b1c8e3"
      },
      "execution_count": null,
      "outputs": [
        {
          "output_type": "stream",
          "name": "stdout",
          "text": [
            "-------------Fetch files into a data frame-----------\n",
            "                                             imgpath   labels  encoded_labels\n",
            "0  drive/MyDrive/Nazir Folder/dogs_breed/Bulldog/...  Bulldog               1\n",
            "1  drive/MyDrive/Nazir Folder/dogs_breed/Bulldog/...  Bulldog               1\n",
            "2  drive/MyDrive/Nazir Folder/dogs_breed/Bulldog/...  Bulldog               1\n",
            "3  drive/MyDrive/Nazir Folder/dogs_breed/Bulldog/...  Bulldog               1\n",
            "4  drive/MyDrive/Nazir Folder/dogs_breed/Bulldog/...  Bulldog               1\n",
            "-------------Path to an image file------------------\n",
            "drive/MyDrive/Nazir Folder/dogs_breed/Siberian Husky/husky-gallery-outdoors-1-min.jpeg\n",
            "-----------Number of images per category--------------\n",
            "labels\n",
            "Bulldog                154\n",
            "Dachshund              133\n",
            "Siberian Husky         118\n",
            "poodle                 107\n",
            "Golden Retriever       103\n",
            "Australian Shepherd    100\n",
            "Name: count, dtype: int64\n"
          ]
        }
      ]
    },
    {
      "cell_type": "code",
      "source": [
        "from sklearn.model_selection import train_test_split\n",
        "\n",
        "# Split the DataFrame into training and validation sets\n",
        "train_df, valid_df = train_test_split(df, train_size=0.80, shuffle=True, random_state=124)\n",
        "\n",
        "# Reset the index of the DataFrames after the split\n",
        "train_df = train_df.reset_index(drop=True)\n",
        "valid_df = valid_df.reset_index(drop=True)\n",
        "\n",
        "print(\"#############Train Split###################\")\n",
        "print(train_df.head(5))\n",
        "print(train_df.shape)\n",
        "print(\"#############Test Split###################\")\n",
        "print(valid_df.head(5))\n",
        "print(valid_df.shape)\n"
      ],
      "metadata": {
        "colab": {
          "base_uri": "https://localhost:8080/"
        },
        "id": "9mDUQusaAVDF",
        "outputId": "8a3568ef-0fff-484e-ea4c-123e1c70941a"
      },
      "execution_count": null,
      "outputs": [
        {
          "output_type": "stream",
          "name": "stdout",
          "text": [
            "#############Train Split###################\n",
            "                                             imgpath               labels  \\\n",
            "0  drive/MyDrive/Nazir Folder/dogs_breed/Golden R...     Golden Retriever   \n",
            "1  drive/MyDrive/Nazir Folder/dogs_breed/Australi...  Australian Shepherd   \n",
            "2  drive/MyDrive/Nazir Folder/dogs_breed/Dachshun...            Dachshund   \n",
            "3  drive/MyDrive/Nazir Folder/dogs_breed/Bulldog/...              Bulldog   \n",
            "4  drive/MyDrive/Nazir Folder/dogs_breed/poodle/3...               poodle   \n",
            "\n",
            "   encoded_labels  \n",
            "0               3  \n",
            "1               0  \n",
            "2               2  \n",
            "3               1  \n",
            "4               5  \n",
            "(572, 3)\n",
            "#############Test Split###################\n",
            "                                             imgpath               labels  \\\n",
            "0  drive/MyDrive/Nazir Folder/dogs_breed/Dachshun...            Dachshund   \n",
            "1  drive/MyDrive/Nazir Folder/dogs_breed/Australi...  Australian Shepherd   \n",
            "2  drive/MyDrive/Nazir Folder/dogs_breed/Australi...  Australian Shepherd   \n",
            "3  drive/MyDrive/Nazir Folder/dogs_breed/Dachshun...            Dachshund   \n",
            "4  drive/MyDrive/Nazir Folder/dogs_breed/Bulldog/...              Bulldog   \n",
            "\n",
            "   encoded_labels  \n",
            "0               2  \n",
            "1               0  \n",
            "2               0  \n",
            "3               2  \n",
            "4               1  \n",
            "(143, 3)\n"
          ]
        }
      ]
    },
    {
      "cell_type": "code",
      "source": [
        "from torchvision import transforms\n",
        "\n",
        "# Define image transformations for training and validation datasets\n",
        "image_transforms = {\n",
        "    'train': transforms.Compose([\n",
        "        transforms.RandomResizedCrop(size=256, scale=(0.8, 1.0)),\n",
        "        transforms.RandomRotation(degrees=15),\n",
        "        transforms.RandomHorizontalFlip(),\n",
        "        transforms.CenterCrop(size=224),\n",
        "        transforms.ToTensor(),\n",
        "        transforms.Normalize(mean=[0.485, 0.456, 0.406], std=[0.229, 0.224, 0.225])\n",
        "    ]),\n",
        "    'valid': transforms.Compose([\n",
        "        transforms.ToTensor(),\n",
        "        transforms.Normalize(mean=[0.485, 0.456, 0.406], std=[0.229, 0.224, 0.225])\n",
        "    ])\n",
        "}"
      ],
      "metadata": {
        "id": "pHo_Q9GfAWxE"
      },
      "execution_count": null,
      "outputs": []
    },
    {
      "cell_type": "code",
      "source": [
        "from torch.utils.data import Dataset\n",
        "from PIL import Image\n",
        "\n",
        "class DogsBreedDataset(Dataset):\n",
        "    def __init__(self, img_data, transform=None):\n",
        "        self.transform = transform\n",
        "        self.img_data = img_data\n",
        "\n",
        "    def __len__(self):\n",
        "        return len(self.img_data)\n",
        "\n",
        "    def __getitem__(self, index):\n",
        "        img_name = self.img_data.loc[index]['imgpath']\n",
        "        imge = Image.open(img_name).convert('RGB')\n",
        "\n",
        "        # Check the number of channels in the image\n",
        "        if imge.mode != 'RGB':\n",
        "            # If the image doesn't have RGB mode, raise an exception\n",
        "            raise ValueError(f\"Image {img_name} does not have RGB mode.\")\n",
        "\n",
        "        # Resize the image\n",
        "        image = imge.resize((224, 224))\n",
        "\n",
        "        if self.transform is not None:\n",
        "            image = self.transform(image)\n",
        "\n",
        "        label = torch.tensor(self.img_data.loc[index]['encoded_labels'])\n",
        "        return image, label\n",
        "\n",
        "# Create datasets\n",
        "training_data = DogsBreedDataset(train_df, transform=image_transforms['train'])\n",
        "validation_data = DogsBreedDataset(valid_df, transform=image_transforms['valid'])\n"
      ],
      "metadata": {
        "id": "Ij80xk3oAbUP"
      },
      "execution_count": null,
      "outputs": []
    },
    {
      "cell_type": "code",
      "source": [
        "from torch.utils.data import DataLoader\n",
        "\n",
        "# Define batch sizes\n",
        "train_batch_size = 200\n",
        "val_batch_size = 100\n",
        "\n",
        "# Create data loaders\n",
        "train_dataloader = DataLoader(training_data, batch_size=train_batch_size, shuffle=True)\n",
        "test_dataloader = DataLoader(validation_data, batch_size=val_batch_size, shuffle=True)\n",
        "\n",
        "# Print information about the data loaders\n",
        "print(\">> Number of Train Data : {} -- Batch Size : {} -- Number of Batch : {} \".format(len(train_dataloader.dataset), train_batch_size, len(train_dataloader)))\n",
        "print(\">> Number of Validation Data : {} -- Batch Size : {} -- Number of Batch : {} \".format(len(test_dataloader.dataset), val_batch_size, len(test_dataloader)))\n",
        "\n",
        "# Get one batch of data from the training data loader\n",
        "one_batch = iter(train_dataloader)\n",
        "train_features, train_labels = next(one_batch)\n",
        "\n",
        "# Print the shapes of the features and labels in the batch\n",
        "print(\"----------Batch Shape--------\")\n",
        "print(f\"Feature batch shape: {train_features.size()}\")\n",
        "print(\"----------Labels Shape--------\")\n",
        "print(f\"Labels batch shape: {train_labels.size()}\")\n"
      ],
      "metadata": {
        "colab": {
          "base_uri": "https://localhost:8080/"
        },
        "id": "KnYG5sWiAdK_",
        "outputId": "df044d75-d046-4d99-874d-9b447b4546cd"
      },
      "execution_count": null,
      "outputs": [
        {
          "output_type": "stream",
          "name": "stdout",
          "text": [
            ">> Number of Train Data : 572 -- Batch Size : 200 -- Number of Batch : 3 \n",
            ">> Number of Validation Data : 143 -- Batch Size : 100 -- Number of Batch : 2 \n",
            "----------Batch Shape--------\n",
            "Feature batch shape: torch.Size([200, 3, 224, 224])\n",
            "----------Labels Shape--------\n",
            "Labels batch shape: torch.Size([200])\n"
          ]
        }
      ]
    },
    {
      "cell_type": "code",
      "source": [
        "from transformers import AutoImageProcessor, AutoModelForImageClassification\n",
        "\n",
        "model_name = 'microsoft/beit-large-patch16-224'\n",
        "model = AutoModelForImageClassification.from_pretrained(model_name)"
      ],
      "metadata": {
        "colab": {
          "base_uri": "https://localhost:8080/",
          "height": 81,
          "referenced_widgets": [
            "6036cb527c6e44b29e1b3f5f1ec7a8f9",
            "d23b4ab188bd479bad45f9efdd13f584",
            "1aacba5fd97e4388be607ce60e0356e8",
            "f4b01925ae1c4d62a07b1eb14aee3d97",
            "02803e3331e8429d94ef4f16c001536f",
            "d675a95d971d4c33b3b1797c52088a1d",
            "9fae78328b34454887a6bcebd227ad06",
            "98f94840bee643c797be8ea3cb14c512",
            "d4c154a5e3fc4fcda726abf927830aad",
            "4554a5ddfb774d0896e657afb1a3c409",
            "0294c455db064dee889705a3d9fbbb3c",
            "81ff2a4c5efc407caa1f752a5c4f9445",
            "2fe9c69ccd154fb1847b35c62501b886",
            "afe3b2ad234b4537a74982345a81570a",
            "2856d1cfa2c9465c97dd46247d98d54a",
            "cbbc0932df3b48a6b84ce3f23ad127cf",
            "1d2205520c8b410881e8b1dfa44fee73",
            "4df71f814c424c0fb26347b6d214c029",
            "8dba15eae68f4651b8800afd192c60bc",
            "8975221b596640b3b9ee631b6d3dd37f",
            "1aa948d609e54ca8a75f995681b4c1f8",
            "b706f49fa18748aaa34785efb8b47c2d"
          ]
        },
        "id": "i1jFlqFGAuYy",
        "outputId": "93f90ceb-8c47-4d63-e5de-d405caecacab"
      },
      "execution_count": null,
      "outputs": [
        {
          "output_type": "display_data",
          "data": {
            "text/plain": [
              "config.json:   0%|          | 0.00/69.9k [00:00<?, ?B/s]"
            ],
            "application/vnd.jupyter.widget-view+json": {
              "version_major": 2,
              "version_minor": 0,
              "model_id": "6036cb527c6e44b29e1b3f5f1ec7a8f9"
            }
          },
          "metadata": {}
        },
        {
          "output_type": "display_data",
          "data": {
            "text/plain": [
              "pytorch_model.bin:   0%|          | 0.00/1.23G [00:00<?, ?B/s]"
            ],
            "application/vnd.jupyter.widget-view+json": {
              "version_major": 2,
              "version_minor": 0,
              "model_id": "81ff2a4c5efc407caa1f752a5c4f9445"
            }
          },
          "metadata": {}
        }
      ]
    },
    {
      "cell_type": "code",
      "source": [
        "for param in model.parameters():\n",
        "    param.requires_grad = False\n",
        "\n",
        "model.classifier = nn.Sequential(\n",
        "    nn.Linear(1024, 512),\n",
        "    nn.ReLU(),\n",
        "    nn.Dropout(0.3),\n",
        "    nn.Linear(512, 6)\n",
        ")\n",
        "model = model.to(device)\n",
        "print(f'Head: {model.classifier}')"
      ],
      "metadata": {
        "colab": {
          "base_uri": "https://localhost:8080/"
        },
        "id": "F8RVK1x2BKOc",
        "outputId": "dcdad951-4ffe-42bb-8809-0d370043c795"
      },
      "execution_count": null,
      "outputs": [
        {
          "output_type": "stream",
          "name": "stdout",
          "text": [
            "Head: Sequential(\n",
            "  (0): Linear(in_features=1024, out_features=512, bias=True)\n",
            "  (1): ReLU()\n",
            "  (2): Dropout(p=0.3, inplace=False)\n",
            "  (3): Linear(in_features=512, out_features=6, bias=True)\n",
            ")\n"
          ]
        }
      ]
    },
    {
      "cell_type": "markdown",
      "source": [],
      "metadata": {
        "id": "Z9uyN8n_EXcX"
      }
    },
    {
      "cell_type": "code",
      "source": [
        "print(f'Head: {model.classifier}')"
      ],
      "metadata": {
        "colab": {
          "base_uri": "https://localhost:8080/"
        },
        "id": "YEEOycKwBTVG",
        "outputId": "22dc08e9-4909-4047-bbbf-58b5da887f53"
      },
      "execution_count": null,
      "outputs": [
        {
          "output_type": "stream",
          "name": "stdout",
          "text": [
            "Head: Sequential(\n",
            "  (0): Linear(in_features=1024, out_features=512, bias=True)\n",
            "  (1): ReLU()\n",
            "  (2): Dropout(p=0.3, inplace=False)\n",
            "  (3): Linear(in_features=512, out_features=6, bias=True)\n",
            ")\n"
          ]
        }
      ]
    },
    {
      "cell_type": "code",
      "source": [
        "# Move the model to the specified device\n",
        "device = torch.device(\"cuda\" if torch.cuda.is_available() else \"cpu\")\n",
        "model = model.to(device)\n",
        "\n",
        "# Define the loss function and optimizer\n",
        "criterion = nn.CrossEntropyLoss().to(device)\n",
        "optimizer = optim.AdamW(model.classifier.parameters(), lr=0.001)\n",
        "\n",
        "print(\"Model is ready for training.\")"
      ],
      "metadata": {
        "colab": {
          "base_uri": "https://localhost:8080/"
        },
        "id": "fXKUKoAJB-LQ",
        "outputId": "8b6c83bd-32b3-48d0-d45b-6546543b6376"
      },
      "execution_count": null,
      "outputs": [
        {
          "output_type": "stream",
          "name": "stdout",
          "text": [
            "Model is ready for training.\n"
          ]
        }
      ]
    },
    {
      "cell_type": "code",
      "source": [
        "import torch\n",
        "\n",
        "def train_model(model, optimizer, criterion, data_loader, device):\n",
        "    model.train()\n",
        "    running_loss = 0.0\n",
        "    correct = 0\n",
        "\n",
        "    for i, (inputs, labels) in enumerate(data_loader):  # Unpack data directly\n",
        "        # Move inputs and labels to the appropriate device\n",
        "        inputs = inputs.to(device)\n",
        "        labels = labels.to(device)\n",
        "\n",
        "        # Zero the parameter gradients\n",
        "        optimizer.zero_grad()\n",
        "\n",
        "        # Forward pass\n",
        "        outputs = model(inputs).logits  # Accessing logits if using Hugging Face model\n",
        "\n",
        "        # Compute loss\n",
        "        loss = criterion(outputs, labels)\n",
        "\n",
        "        # Backward pass and optimization\n",
        "        loss.backward()\n",
        "        optimizer.step()\n",
        "\n",
        "        # Calculate predictions\n",
        "        _, predicted = torch.max(outputs, 1)\n",
        "        correct += (predicted == labels).sum().item()\n",
        "        running_loss += loss.item() * inputs.size(0)\n",
        "\n",
        "    # Calculate average loss and accuracy\n",
        "    avg_train_loss = running_loss / len(data_loader.dataset)\n",
        "    avg_train_acc = (correct / len(data_loader.dataset)) * 100\n",
        "\n",
        "    print(f\">>> Train loss: {avg_train_loss:.4f} ---- Accuracy Train: {avg_train_acc:.2f}%\")\n",
        "\n",
        "    return avg_train_loss, avg_train_acc\n"
      ],
      "metadata": {
        "id": "X13WXeL8CCa9"
      },
      "execution_count": null,
      "outputs": []
    },
    {
      "cell_type": "code",
      "source": [
        "from sklearn.metrics import precision_score, recall_score, roc_auc_score, matthews_corrcoef\n",
        "from sklearn.preprocessing import label_binarize\n",
        "\n",
        "def test_model(model, criterion, data_loader, device):\n",
        "    model.eval()\n",
        "\n",
        "    val_loss = 0.0\n",
        "    correct = 0\n",
        "    all_labels = []\n",
        "    all_predictions = []\n",
        "\n",
        "    with torch.no_grad():\n",
        "        for inputs, labels in data_loader:\n",
        "            # Move inputs and labels to the appropriate device\n",
        "            inputs = inputs.to(device)\n",
        "            labels = labels.to(device)\n",
        "\n",
        "            # Forward pass\n",
        "            outputs = model(inputs).logits  # Accessing logits if using Hugging Face model\n",
        "            loss = criterion(outputs, labels)\n",
        "            val_loss += loss.item() * inputs.size(0)\n",
        "\n",
        "            # Calculate predictions\n",
        "            _, predicted = torch.max(outputs, 1)\n",
        "            correct += (predicted == labels).sum().item()\n",
        "\n",
        "            # Collect all labels and predictions for metric calculation\n",
        "            all_labels.extend(labels.cpu().numpy())\n",
        "            all_predictions.extend(predicted.cpu().numpy())\n",
        "\n",
        "    # Calculate average validation loss and accuracy\n",
        "    avg_val_acc = (correct / len(data_loader.dataset)) * 100\n",
        "    avg_val_loss = val_loss / len(data_loader.dataset)\n",
        "\n",
        "    # Calculate precision, recall, sensitivity, specificity, MCC, and AUC\n",
        "    precision = precision_score(all_labels, all_predictions, average='weighted')\n",
        "    recall = recall_score(all_labels, all_predictions, average='weighted')\n",
        "    sensitivity = recall_score(all_labels, all_predictions, average='macro')\n",
        "    specificity = recall_score(all_labels, all_predictions, average='macro')\n",
        "    mcc = matthews_corrcoef(all_labels, all_predictions)\n",
        "\n",
        "    # AUC calculation\n",
        "    if len(set(all_labels)) > 2:  # Multiclass\n",
        "        auc = roc_auc_score(label_binarize(all_labels, classes=np.unique(all_labels)), label_binarize(all_predictions, classes=np.unique(all_labels)), average='macro', multi_class='ovr')\n",
        "    else:  # Binary\n",
        "        auc = roc_auc_score(all_labels, all_predictions)\n",
        "\n",
        "    # Print scores\n",
        "    print(\">>> Validation loss {:.4f} ---- Validation Accuracy {:.2f}%\".format(avg_val_loss, avg_val_acc))\n",
        "    print(f\"Recall: {recall:.4f}\")\n",
        "    print(f\"Precision: {precision:.4f}\")\n",
        "    print(f\"Sensitivity: {sensitivity:.4f}\")\n",
        "    print(f\"Specificity: {specificity:.4f}\")\n",
        "    print(f\"Matthews Correlation Coefficient: {mcc:.4f}\")\n",
        "    print(f\"Area Under Curve: {auc:.4f}\")\n",
        "\n",
        "    return avg_val_loss, avg_val_acc\n"
      ],
      "metadata": {
        "id": "QoVxWNXMCFYc"
      },
      "execution_count": null,
      "outputs": []
    },
    {
      "cell_type": "code",
      "source": [
        "num_epochs = 5\n",
        "history = {\"train_loss\": [], \"train_acc\": [], \"val_loss\": [], \"val_acc\": []}\n",
        "\n",
        "for epoch in range(num_epochs):\n",
        "    print(f\"------------------ Training Epoch {epoch+1} ------------------\")\n",
        "    train_loss, train_acc = train_model(model, optimizer, criterion, train_dataloader, device)\n",
        "    val_loss, val_acc = test_model(model, criterion, test_dataloader, device)\n",
        "\n",
        "    history[\"train_loss\"].append(train_loss)\n",
        "    history[\"train_acc\"].append(train_acc)\n",
        "    history[\"val_loss\"].append(val_loss)\n",
        "    history[\"val_acc\"].append(val_acc)"
      ],
      "metadata": {
        "colab": {
          "base_uri": "https://localhost:8080/"
        },
        "id": "oy3yny2aCHjd",
        "outputId": "376abf0d-fcdf-4e6f-bf6e-04fef8cc5749"
      },
      "execution_count": null,
      "outputs": [
        {
          "output_type": "stream",
          "name": "stdout",
          "text": [
            "------------------ Training Epoch 1 ------------------\n",
            ">>> Train loss: 1.5239 ---- Accuracy Train: 41.78%\n",
            ">>> Validation loss 0.8703 ---- Validation Accuracy 68.53%\n",
            "Recall: 0.6853\n",
            "Precision: 0.8783\n",
            "Sensitivity: 0.7165\n",
            "Specificity: 0.7165\n",
            "Matthews Correlation Coefficient: 0.6690\n",
            "Area Under Curve: 0.8284\n",
            "------------------ Training Epoch 2 ------------------\n",
            ">>> Train loss: 0.7100 ---- Accuracy Train: 77.45%\n",
            ">>> Validation loss 0.4976 ---- Validation Accuracy 84.62%\n",
            "Recall: 0.8462\n",
            "Precision: 0.8670\n",
            "Sensitivity: 0.8354\n",
            "Specificity: 0.8354\n",
            "Matthews Correlation Coefficient: 0.8178\n",
            "Area Under Curve: 0.9017\n",
            "------------------ Training Epoch 3 ------------------\n",
            ">>> Train loss: 0.4944 ---- Accuracy Train: 82.52%\n",
            ">>> Validation loss 0.4142 ---- Validation Accuracy 86.01%\n",
            "Recall: 0.8601\n",
            "Precision: 0.8902\n",
            "Sensitivity: 0.8683\n",
            "Specificity: 0.8683\n",
            "Matthews Correlation Coefficient: 0.8359\n",
            "Area Under Curve: 0.9203\n",
            "------------------ Training Epoch 4 ------------------\n",
            ">>> Train loss: 0.3704 ---- Accuracy Train: 86.71%\n",
            ">>> Validation loss 0.3560 ---- Validation Accuracy 88.11%\n",
            "Recall: 0.8811\n",
            "Precision: 0.8999\n",
            "Sensitivity: 0.8803\n",
            "Specificity: 0.8803\n",
            "Matthews Correlation Coefficient: 0.8596\n",
            "Area Under Curve: 0.9278\n",
            "------------------ Training Epoch 5 ------------------\n",
            ">>> Train loss: 0.3402 ---- Accuracy Train: 88.99%\n",
            ">>> Validation loss 0.3583 ---- Validation Accuracy 88.11%\n",
            "Recall: 0.8811\n",
            "Precision: 0.8946\n",
            "Sensitivity: 0.8793\n",
            "Specificity: 0.8793\n",
            "Matthews Correlation Coefficient: 0.8589\n",
            "Area Under Curve: 0.9275\n"
          ]
        }
      ]
    },
    {
      "cell_type": "code",
      "source": [
        "tr_acc = history[\"train_acc\"]\n",
        "tr_loss = history[\"train_loss\"]\n",
        "val_acc = history[\"val_acc\"]\n",
        "val_loss = history[\"val_loss\"]\n",
        "\n",
        "\n",
        "index_loss = np.argmin(val_loss)\n",
        "val_lowest = val_loss[index_loss]\n",
        "index_acc = np.argmax(val_acc)\n",
        "acc_highest = val_acc[index_acc]\n",
        "Epochs = [i+1 for i in range(len(tr_acc))]\n",
        "loss_label = f'best epoch= {str(index_loss + 1)}'\n",
        "acc_label = f'best epoch= {str(index_acc + 1)}'\n",
        "\n",
        "# Plot training history\n",
        "plt.figure(figsize= (20, 8))\n",
        "plt.style.use('fivethirtyeight')\n",
        "\n",
        "plt.subplot(1, 2, 1)\n",
        "plt.plot(Epochs, tr_loss, 'r', label= 'Training loss')\n",
        "plt.plot(Epochs, val_loss, 'g', label= 'Validation loss')\n",
        "plt.scatter(index_loss + 1, val_lowest, s= 150, c= 'blue', label= loss_label)\n",
        "plt.title('Training and Validation Loss')\n",
        "plt.xlabel('Epochs')\n",
        "plt.ylabel('Loss')\n",
        "plt.legend()\n",
        "\n",
        "plt.subplot(1, 2, 2)\n",
        "plt.plot(Epochs, tr_acc, 'r', label= 'Training Accuracy')\n",
        "plt.plot(Epochs, val_acc, 'g', label= 'Validation Accuracy')\n",
        "plt.scatter(index_acc + 1 , acc_highest, s= 150, c= 'blue', label= acc_label)\n",
        "plt.title('Training and Validation Accuracy')\n",
        "plt.xlabel('Epochs')\n",
        "plt.ylabel('Accuracy')\n",
        "plt.legend()\n",
        "\n",
        "plt.tight_layout\n",
        "plt.show()"
      ],
      "metadata": {
        "colab": {
          "base_uri": "https://localhost:8080/",
          "height": 300
        },
        "id": "pi09rsjjFHBL",
        "outputId": "eff422cb-fe6d-4ba9-a57b-3a312b2f3d1f"
      },
      "execution_count": null,
      "outputs": [
        {
          "output_type": "display_data",
          "data": {
            "text/plain": [
              "<Figure size 2000x800 with 2 Axes>"
            ],
            "image/png": "[encoded data removed]"
          },
          "metadata": {}
        }
      ]
    },
    {
      "cell_type": "code",
      "source": [
        "import numpy as np\n",
        "import matplotlib.pyplot as plt\n",
        "from sklearn.metrics import roc_curve, auc, precision_score, recall_score, matthews_corrcoef, roc_auc_score\n",
        "from sklearn.preprocessing import label_binarize\n",
        "\n",
        "def test_model1(model, criterion, data_loader, device):\n",
        "    model.eval()\n",
        "\n",
        "    val_loss = 0.0\n",
        "    correct = 0\n",
        "    all_labels = []\n",
        "    all_predictions = []\n",
        "    all_probs = []\n",
        "\n",
        "    with torch.no_grad():\n",
        "        for inputs, labels in data_loader:\n",
        "            inputs = inputs.to(device)\n",
        "            labels = labels.to(device)\n",
        "\n",
        "            # Forward pass\n",
        "            outputs = model(inputs).logits\n",
        "            loss = criterion(outputs, labels)\n",
        "            val_loss += loss.item() * inputs.size(0)\n",
        "\n",
        "            # Calculate predictions and probabilities\n",
        "            probs = torch.softmax(outputs, dim=1)\n",
        "            _, predicted = torch.max(outputs, 1)\n",
        "            correct += (predicted == labels).sum().item()\n",
        "\n",
        "            # Collect all labels, predictions, and probabilities for metric calculation and ROC curve\n",
        "            all_labels.extend(labels.cpu().numpy())\n",
        "            all_predictions.extend(predicted.cpu().numpy())\n",
        "            all_probs.extend(probs.cpu().numpy())\n",
        "\n",
        "    # Calculate average validation loss and accuracy\n",
        "    avg_val_acc = (correct / len(data_loader.dataset)) * 100\n",
        "    avg_val_loss = val_loss / len(data_loader.dataset)\n",
        "\n",
        "    # Calculate precision, recall, MCC\n",
        "    precision = precision_score(all_labels, all_predictions, average='weighted')\n",
        "    recall = recall_score(all_labels, all_predictions, average='weighted')\n",
        "    mcc = matthews_corrcoef(all_labels, all_predictions)\n",
        "\n",
        "        # ROC Curve\n",
        "    num_classes = len(np.unique(all_labels))\n",
        "    fpr = dict()\n",
        "    tpr = dict()\n",
        "    roc_auc = dict()\n",
        "    all_probs_array = np.array(all_probs)  # Convert list of arrays to numpy array\n",
        "    for i in range(num_classes):\n",
        "        # Access correct elements and reshape if necessary\n",
        "        probs_for_class_i = all_probs_array[:, i]  # Access probabilities for class i\n",
        "        fpr[i], tpr[i], _ = roc_curve(label_binarize(all_labels, classes=np.unique(all_labels))[:, i], probs_for_class_i)\n",
        "        roc_auc[i] = auc(fpr[i], tpr[i])\n",
        "\n",
        "\n",
        "    # Plot ROC Curves\n",
        "    plt.figure()\n",
        "    for i in range(num_classes):\n",
        "        plt.plot(fpr[i], tpr[i], label=f'Class {i} (AUC = {roc_auc[i]:0.2f})')\n",
        "    plt.plot([0, 1], [0, 1], 'k--')\n",
        "    plt.xlim([0.0, 1.0])\n",
        "    plt.ylim([0.0, 1.05])\n",
        "    plt.xlabel('False Positive Rate')\n",
        "    plt.ylabel('True Positive Rate')\n",
        "    plt.title('ROC Curve')\n",
        "    plt.legend(loc=\"lower right\")\n",
        "    plt.show()\n",
        "\n",
        "    # Print scores\n",
        "    print(\">>> Validation loss {:.4f} ---- Validation Accuracy {:.2f}%\".format(avg_val_loss, avg_val_acc))\n",
        "    print(f\"Precision: {precision:.4f}\")\n",
        "    print(f\"Recall: {recall:.4f}\")\n",
        "    print(f\"Matthews Correlation Coefficient: {mcc:.4f}\")\n",
        "\n",
        "    return avg_val_loss, avg_val_acc\n"
      ],
      "metadata": {
        "id": "rrIDepP2Hj_i"
      },
      "execution_count": null,
      "outputs": []
    },
    {
      "cell_type": "code",
      "source": [
        "test_model1(model, criterion, test_dataloader, device)"
      ],
      "metadata": {
        "id": "ZmBcdV0oHl95",
        "outputId": "a6c20483-dc66-4660-cd43-cee276daeafc",
        "colab": {
          "base_uri": "https://localhost:8080/",
          "height": 586
        }
      },
      "execution_count": null,
      "outputs": [
        {
          "output_type": "display_data",
          "data": {
            "text/plain": [
              "<Figure size 640x480 with 1 Axes>"
            ],
            "image/png": "[encoded data removed]"
          },
          "metadata": {}
        },
        {
          "output_type": "stream",
          "name": "stdout",
          "text": [
            ">>> Validation loss 0.3583 ---- Validation Accuracy 88.11%\n",
            "Precision: 0.8946\n",
            "Recall: 0.8811\n",
            "Matthews Correlation Coefficient: 0.8589\n"
          ]
        },
        {
          "output_type": "execute_result",
          "data": {
            "text/plain": [
              "(0.35828639056299116, 88.11188811188812)"
            ]
          },
          "metadata": {},
          "execution_count": 47
        }
      ]
    }
  ]
}