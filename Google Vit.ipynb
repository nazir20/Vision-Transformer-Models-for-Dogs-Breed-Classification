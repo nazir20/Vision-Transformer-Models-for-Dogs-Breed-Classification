{
  "nbformat": 4,
  "nbformat_minor": 0,
  "metadata": {
    "colab": {
      "provenance": [],
      "gpuType": "L4"
    },
    "kernelspec": {
      "name": "python3",
      "display_name": "Python 3"
    },
    "language_info": {
      "name": "python"
    },
    "accelerator": "GPU"
  },
  "cells": [
    {
      "cell_type": "code",
      "execution_count": null,
      "metadata": {
        "colab": {
          "base_uri": "https://localhost:8080/"
        },
        "id": "BumA-vhz21Ao",
        "outputId": "200f8f15-3e39-4367-84a0-cf47da17517c"
      },
      "outputs": [
        {
          "output_type": "stream",
          "name": "stdout",
          "text": [
            "Mounted at /content/drive\n"
          ]
        }
      ],
      "source": [
        "# Connecting to MyDrive\n",
        "from google.colab import drive\n",
        "drive.mount('/content/drive')"
      ]
    },
    {
      "cell_type": "code",
      "source": [
        "# Required Libraries\n",
        "import pandas as pd\n",
        "import os\n",
        "import numpy as np\n",
        "from PIL import Image\n",
        "import warnings\n",
        "import matplotlib.pyplot as plt\n",
        "from sklearn.model_selection import train_test_split\n",
        "from sklearn.preprocessing import LabelEncoder\n",
        "\n",
        "\n",
        "import torch\n",
        "import torch.optim as optim\n",
        "import torch.nn as nn\n",
        "from torch.utils.data import Dataset , DataLoader\n",
        "from torchvision import transforms\n",
        "from torchvision.io import read_image\n",
        "from torchvision.models.swin_transformer import swin_s\n",
        "import torch.nn.functional as F\n",
        "from torchvision.utils import make_grid\n",
        "\n",
        "warnings.filterwarnings('ignore')"
      ],
      "metadata": {
        "id": "ysEPBTok3gtD"
      },
      "execution_count": null,
      "outputs": []
    },
    {
      "cell_type": "code",
      "source": [
        "print(torch.__version__)\n",
        "device = torch.device('cuda:0' if torch.cuda.is_available() else 'cpu')\n",
        "print(device)"
      ],
      "metadata": {
        "colab": {
          "base_uri": "https://localhost:8080/"
        },
        "id": "HCYARAVk3hkE",
        "outputId": "f1d80ff2-65f0-46ca-f978-2066c1560eee"
      },
      "execution_count": null,
      "outputs": [
        {
          "output_type": "stream",
          "name": "stdout",
          "text": [
            "2.3.0+cu121\n",
            "cuda:0\n"
          ]
        }
      ]
    },
    {
      "cell_type": "code",
      "source": [
        "# Defining the path to the directory containing the image folders\n",
        "path = \"drive/MyDrive/Nazir Folder/dogs_breed\"\n",
        "\n",
        "# Dictionary to store image paths and labels\n",
        "data = {\"imgpath\": [], \"labels\": []}\n",
        "\n",
        "category = os.listdir(path)\n",
        "for folder in category:\n",
        "    folderpath = os.path.join(path, folder)\n",
        "    filelist = os.listdir(folderpath)\n",
        "    # Iterate through each image file in the current category\n",
        "    for file in filelist:\n",
        "        fpath = os.path.join(folderpath, file)\n",
        "        # Append the image path and its corresponding label to the data dictionary\n",
        "        data[\"imgpath\"].append(fpath)\n",
        "        data[\"labels\"].append(folder)\n",
        "\n",
        "df = pd.DataFrame(data)\n",
        "lb = LabelEncoder()\n",
        "df['encoded_labels'] = lb.fit_transform(df['labels'])\n",
        "\n",
        "print(\"-------------Fetch files into a data frame-----------\")\n",
        "print(df.head())\n",
        "print(\"-------------Path to an image file------------------\")\n",
        "print(df.loc[175]['imgpath'])\n",
        "print(\"-----------Number of images per category--------------\")\n",
        "print(df.labels.value_counts())\n"
      ],
      "metadata": {
        "colab": {
          "base_uri": "https://localhost:8080/"
        },
        "id": "sdUzBviH3l9D",
        "outputId": "116ef52d-e1e8-47d7-e18d-ccf0f8548d1c"
      },
      "execution_count": null,
      "outputs": [
        {
          "output_type": "stream",
          "name": "stdout",
          "text": [
            "-------------Fetch files into a data frame-----------\n",
            "                                             imgpath   labels  encoded_labels\n",
            "0  drive/MyDrive/Nazir Folder/dogs_breed/Bulldog/...  Bulldog               1\n",
            "1  drive/MyDrive/Nazir Folder/dogs_breed/Bulldog/...  Bulldog               1\n",
            "2  drive/MyDrive/Nazir Folder/dogs_breed/Bulldog/...  Bulldog               1\n",
            "3  drive/MyDrive/Nazir Folder/dogs_breed/Bulldog/...  Bulldog               1\n",
            "4  drive/MyDrive/Nazir Folder/dogs_breed/Bulldog/...  Bulldog               1\n",
            "-------------Path to an image file------------------\n",
            "drive/MyDrive/Nazir Folder/dogs_breed/Siberian Husky/husky-gallery-outdoors-1-min.jpeg\n",
            "-----------Number of images per category--------------\n",
            "labels\n",
            "Bulldog                154\n",
            "Dachshund              133\n",
            "Siberian Husky         118\n",
            "poodle                 107\n",
            "Golden Retriever       103\n",
            "Australian Shepherd    100\n",
            "Name: count, dtype: int64\n"
          ]
        }
      ]
    },
    {
      "cell_type": "code",
      "source": [
        "from sklearn.model_selection import train_test_split\n",
        "\n",
        "# Split the DataFrame into training and validation sets\n",
        "train_df, valid_df = train_test_split(df, train_size=0.80, shuffle=True, random_state=124)\n",
        "\n",
        "# Reset the index of the DataFrames after the split\n",
        "train_df = train_df.reset_index(drop=True)\n",
        "valid_df = valid_df.reset_index(drop=True)\n",
        "\n",
        "print(\"#############Train Split###################\")\n",
        "print(train_df.head(5))\n",
        "print(train_df.shape)\n",
        "print(\"#############Test Split###################\")\n",
        "print(valid_df.head(5))\n",
        "print(valid_df.shape)\n"
      ],
      "metadata": {
        "colab": {
          "base_uri": "https://localhost:8080/"
        },
        "id": "Az24HK9R3uX8",
        "outputId": "f7cc5f07-f4d9-4ed3-d9bd-2a123b7e8be3"
      },
      "execution_count": null,
      "outputs": [
        {
          "output_type": "stream",
          "name": "stdout",
          "text": [
            "#############Train Split###################\n",
            "                                             imgpath               labels  \\\n",
            "0  drive/MyDrive/Nazir Folder/dogs_breed/Golden R...     Golden Retriever   \n",
            "1  drive/MyDrive/Nazir Folder/dogs_breed/Australi...  Australian Shepherd   \n",
            "2  drive/MyDrive/Nazir Folder/dogs_breed/Dachshun...            Dachshund   \n",
            "3  drive/MyDrive/Nazir Folder/dogs_breed/Bulldog/...              Bulldog   \n",
            "4  drive/MyDrive/Nazir Folder/dogs_breed/poodle/3...               poodle   \n",
            "\n",
            "   encoded_labels  \n",
            "0               3  \n",
            "1               0  \n",
            "2               2  \n",
            "3               1  \n",
            "4               5  \n",
            "(572, 3)\n",
            "#############Test Split###################\n",
            "                                             imgpath               labels  \\\n",
            "0  drive/MyDrive/Nazir Folder/dogs_breed/Dachshun...            Dachshund   \n",
            "1  drive/MyDrive/Nazir Folder/dogs_breed/Australi...  Australian Shepherd   \n",
            "2  drive/MyDrive/Nazir Folder/dogs_breed/Australi...  Australian Shepherd   \n",
            "3  drive/MyDrive/Nazir Folder/dogs_breed/Dachshun...            Dachshund   \n",
            "4  drive/MyDrive/Nazir Folder/dogs_breed/Bulldog/...              Bulldog   \n",
            "\n",
            "   encoded_labels  \n",
            "0               2  \n",
            "1               0  \n",
            "2               0  \n",
            "3               2  \n",
            "4               1  \n",
            "(143, 3)\n"
          ]
        }
      ]
    },
    {
      "cell_type": "code",
      "source": [
        "from torchvision import transforms\n",
        "\n",
        "# Define image transformations for training and validation datasets\n",
        "image_transforms = {\n",
        "    'train': transforms.Compose([\n",
        "        transforms.RandomResizedCrop(size=256, scale=(0.8, 1.0)),\n",
        "        transforms.RandomRotation(degrees=15),\n",
        "        transforms.RandomHorizontalFlip(),\n",
        "        transforms.CenterCrop(size=224),\n",
        "        transforms.ToTensor(),\n",
        "        transforms.Normalize(mean=[0.485, 0.456, 0.406], std=[0.229, 0.224, 0.225])\n",
        "    ]),\n",
        "    'valid': transforms.Compose([\n",
        "        transforms.ToTensor(),\n",
        "        transforms.Normalize(mean=[0.485, 0.456, 0.406], std=[0.229, 0.224, 0.225])\n",
        "    ])\n",
        "}"
      ],
      "metadata": {
        "id": "5cifX4hx315s"
      },
      "execution_count": null,
      "outputs": []
    },
    {
      "cell_type": "code",
      "source": [
        "from torch.utils.data import Dataset\n",
        "from PIL import Image\n",
        "\n",
        "class DogsBreedDataset(Dataset):\n",
        "    def __init__(self, img_data, transform=None):\n",
        "        self.transform = transform\n",
        "        self.img_data = img_data\n",
        "\n",
        "    def __len__(self):\n",
        "        return len(self.img_data)\n",
        "\n",
        "    def __getitem__(self, index):\n",
        "        img_name = self.img_data.loc[index]['imgpath']\n",
        "        imge = Image.open(img_name).convert('RGB')\n",
        "\n",
        "        # Check the number of channels in the image\n",
        "        if imge.mode != 'RGB':\n",
        "            # If the image doesn't have RGB mode, raise an exception\n",
        "            raise ValueError(f\"Image {img_name} does not have RGB mode.\")\n",
        "\n",
        "        # Resize the image\n",
        "        image = imge.resize((224, 224))\n",
        "\n",
        "        if self.transform is not None:\n",
        "            image = self.transform(image)\n",
        "\n",
        "        label = torch.tensor(self.img_data.loc[index]['encoded_labels'])\n",
        "        return image, label\n",
        "\n",
        "# Create datasets\n",
        "training_data = DogsBreedDataset(train_df, transform=image_transforms['train'])\n",
        "validation_data = DogsBreedDataset(valid_df, transform=image_transforms['valid'])\n"
      ],
      "metadata": {
        "id": "iAiKSMx335_s"
      },
      "execution_count": null,
      "outputs": []
    },
    {
      "cell_type": "code",
      "source": [
        "from torch.utils.data import DataLoader\n",
        "\n",
        "# Define batch sizes\n",
        "train_batch_size = 200\n",
        "val_batch_size = 100\n",
        "\n",
        "# Create data loaders\n",
        "train_dataloader = DataLoader(training_data, batch_size=train_batch_size, shuffle=True)\n",
        "test_dataloader = DataLoader(validation_data, batch_size=val_batch_size, shuffle=True)\n",
        "\n",
        "# Print information about the data loaders\n",
        "print(\">> Number of Train Data : {} -- Batch Size : {} -- Number of Batch : {} \".format(len(train_dataloader.dataset), train_batch_size, len(train_dataloader)))\n",
        "print(\">> Number of Validation Data : {} -- Batch Size : {} -- Number of Batch : {} \".format(len(test_dataloader.dataset), val_batch_size, len(test_dataloader)))\n",
        "\n",
        "# Get one batch of data from the training data loader\n",
        "one_batch = iter(train_dataloader)\n",
        "train_features, train_labels = next(one_batch)\n",
        "\n",
        "# Print the shapes of the features and labels in the batch\n",
        "print(\"----------Batch Shape--------\")\n",
        "print(f\"Feature batch shape: {train_features.size()}\")\n",
        "print(\"----------Labels Shape--------\")\n",
        "print(f\"Labels batch shape: {train_labels.size()}\")\n"
      ],
      "metadata": {
        "colab": {
          "base_uri": "https://localhost:8080/"
        },
        "id": "Xq7wbdUe39sZ",
        "outputId": "7714da16-7b40-48cf-f58c-078c3e3a09e4"
      },
      "execution_count": null,
      "outputs": [
        {
          "output_type": "stream",
          "name": "stdout",
          "text": [
            ">> Number of Train Data : 572 -- Batch Size : 200 -- Number of Batch : 3 \n",
            ">> Number of Validation Data : 143 -- Batch Size : 100 -- Number of Batch : 2 \n",
            "----------Batch Shape--------\n",
            "Feature batch shape: torch.Size([200, 3, 224, 224])\n",
            "----------Labels Shape--------\n",
            "Labels batch shape: torch.Size([200])\n"
          ]
        }
      ]
    },
    {
      "cell_type": "code",
      "source": [
        "from transformers import AutoImageProcessor, AutoModelForImageClassification\n",
        "\n",
        "model_name = 'google/vit-base-patch16-224'\n",
        "model = AutoModelForImageClassification.from_pretrained(model_name)"
      ],
      "metadata": {
        "id": "LRvhOZSe4pW4"
      },
      "execution_count": null,
      "outputs": []
    },
    {
      "cell_type": "code",
      "source": [
        "print(f'Model: {model}')"
      ],
      "metadata": {
        "colab": {
          "base_uri": "https://localhost:8080/"
        },
        "id": "S5eYp8ZFQQwl",
        "outputId": "9cef690b-33a3-47c9-dc15-4ae7b1eeafda"
      },
      "execution_count": null,
      "outputs": [
        {
          "output_type": "stream",
          "name": "stdout",
          "text": [
            "Model: ViTForImageClassification(\n",
            "  (vit): ViTModel(\n",
            "    (embeddings): ViTEmbeddings(\n",
            "      (patch_embeddings): ViTPatchEmbeddings(\n",
            "        (projection): Conv2d(3, 768, kernel_size=(16, 16), stride=(16, 16))\n",
            "      )\n",
            "      (dropout): Dropout(p=0.0, inplace=False)\n",
            "    )\n",
            "    (encoder): ViTEncoder(\n",
            "      (layer): ModuleList(\n",
            "        (0-11): 12 x ViTLayer(\n",
            "          (attention): ViTSdpaAttention(\n",
            "            (attention): ViTSdpaSelfAttention(\n",
            "              (query): Linear(in_features=768, out_features=768, bias=True)\n",
            "              (key): Linear(in_features=768, out_features=768, bias=True)\n",
            "              (value): Linear(in_features=768, out_features=768, bias=True)\n",
            "              (dropout): Dropout(p=0.0, inplace=False)\n",
            "            )\n",
            "            (output): ViTSelfOutput(\n",
            "              (dense): Linear(in_features=768, out_features=768, bias=True)\n",
            "              (dropout): Dropout(p=0.0, inplace=False)\n",
            "            )\n",
            "          )\n",
            "          (intermediate): ViTIntermediate(\n",
            "            (dense): Linear(in_features=768, out_features=3072, bias=True)\n",
            "            (intermediate_act_fn): GELUActivation()\n",
            "          )\n",
            "          (output): ViTOutput(\n",
            "            (dense): Linear(in_features=3072, out_features=768, bias=True)\n",
            "            (dropout): Dropout(p=0.0, inplace=False)\n",
            "          )\n",
            "          (layernorm_before): LayerNorm((768,), eps=1e-12, elementwise_affine=True)\n",
            "          (layernorm_after): LayerNorm((768,), eps=1e-12, elementwise_affine=True)\n",
            "        )\n",
            "      )\n",
            "    )\n",
            "    (layernorm): LayerNorm((768,), eps=1e-12, elementwise_affine=True)\n",
            "  )\n",
            "  (classifier): Linear(in_features=768, out_features=1000, bias=True)\n",
            ")\n"
          ]
        }
      ]
    },
    {
      "cell_type": "code",
      "source": [
        "for param in model.parameters():\n",
        "    param.requires_grad = False\n",
        "\n",
        "n_inputs = model.classifier.in_features\n",
        "model.classifier = nn.Sequential(\n",
        "    nn.Linear(768, 6)\n",
        ")\n",
        "model = model.to(device)"
      ],
      "metadata": {
        "id": "ZrQHyrds5gZA"
      },
      "execution_count": null,
      "outputs": []
    },
    {
      "cell_type": "code",
      "source": [
        "print(f'Head: {model}')"
      ],
      "metadata": {
        "colab": {
          "base_uri": "https://localhost:8080/"
        },
        "id": "X7SThYdK8tXS",
        "outputId": "7664d505-7d20-44c5-8840-cae5a5a8991e"
      },
      "execution_count": null,
      "outputs": [
        {
          "output_type": "stream",
          "name": "stdout",
          "text": [
            "Head: ViTForImageClassification(\n",
            "  (vit): ViTModel(\n",
            "    (embeddings): ViTEmbeddings(\n",
            "      (patch_embeddings): ViTPatchEmbeddings(\n",
            "        (projection): Conv2d(3, 768, kernel_size=(16, 16), stride=(16, 16))\n",
            "      )\n",
            "      (dropout): Dropout(p=0.0, inplace=False)\n",
            "    )\n",
            "    (encoder): ViTEncoder(\n",
            "      (layer): ModuleList(\n",
            "        (0-11): 12 x ViTLayer(\n",
            "          (attention): ViTSdpaAttention(\n",
            "            (attention): ViTSdpaSelfAttention(\n",
            "              (query): Linear(in_features=768, out_features=768, bias=True)\n",
            "              (key): Linear(in_features=768, out_features=768, bias=True)\n",
            "              (value): Linear(in_features=768, out_features=768, bias=True)\n",
            "              (dropout): Dropout(p=0.0, inplace=False)\n",
            "            )\n",
            "            (output): ViTSelfOutput(\n",
            "              (dense): Linear(in_features=768, out_features=768, bias=True)\n",
            "              (dropout): Dropout(p=0.0, inplace=False)\n",
            "            )\n",
            "          )\n",
            "          (intermediate): ViTIntermediate(\n",
            "            (dense): Linear(in_features=768, out_features=3072, bias=True)\n",
            "            (intermediate_act_fn): GELUActivation()\n",
            "          )\n",
            "          (output): ViTOutput(\n",
            "            (dense): Linear(in_features=3072, out_features=768, bias=True)\n",
            "            (dropout): Dropout(p=0.0, inplace=False)\n",
            "          )\n",
            "          (layernorm_before): LayerNorm((768,), eps=1e-12, elementwise_affine=True)\n",
            "          (layernorm_after): LayerNorm((768,), eps=1e-12, elementwise_affine=True)\n",
            "        )\n",
            "      )\n",
            "    )\n",
            "    (layernorm): LayerNorm((768,), eps=1e-12, elementwise_affine=True)\n",
            "  )\n",
            "  (classifier): Sequential(\n",
            "    (0): Linear(in_features=768, out_features=6, bias=True)\n",
            "  )\n",
            ")\n"
          ]
        }
      ]
    },
    {
      "cell_type": "code",
      "source": [
        "# Move the model to the specified device\n",
        "device = torch.device(\"cuda\" if torch.cuda.is_available() else \"cpu\")\n",
        "model = model.to(device)\n",
        "\n",
        "# Define the loss function and optimizer\n",
        "criterion = nn.CrossEntropyLoss().to(device)\n",
        "optimizer = optim.AdamW(model.classifier.parameters(), lr=0.001)\n",
        "\n",
        "print(\"Model is ready for training.\")"
      ],
      "metadata": {
        "colab": {
          "base_uri": "https://localhost:8080/"
        },
        "id": "6Qc2x79v6C0X",
        "outputId": "70ae0d07-1c0a-4103-f9c0-0a63fda68ede"
      },
      "execution_count": null,
      "outputs": [
        {
          "output_type": "stream",
          "name": "stdout",
          "text": [
            "Model is ready for training.\n"
          ]
        }
      ]
    },
    {
      "cell_type": "code",
      "source": [
        "import torch\n",
        "\n",
        "def train_model(model, optimizer, criterion, data_loader, device):\n",
        "    model.train()\n",
        "    running_loss = 0.0\n",
        "    correct = 0\n",
        "\n",
        "    for i, (inputs, labels) in enumerate(data_loader):  # Unpack data directly\n",
        "        # Move inputs and labels to the appropriate device\n",
        "        inputs = inputs.to(device)\n",
        "        labels = labels.to(device)\n",
        "\n",
        "        # Zero the parameter gradients\n",
        "        optimizer.zero_grad()\n",
        "\n",
        "        # Forward pass\n",
        "        outputs = model(inputs).logits  # Accessing logits if using Hugging Face model\n",
        "\n",
        "        # Compute loss\n",
        "        loss = criterion(outputs, labels)\n",
        "\n",
        "        # Backward pass and optimization\n",
        "        loss.backward()\n",
        "        optimizer.step()\n",
        "\n",
        "        # Calculate predictions\n",
        "        _, predicted = torch.max(outputs, 1)\n",
        "        correct += (predicted == labels).sum().item()\n",
        "        running_loss += loss.item() * inputs.size(0)\n",
        "\n",
        "    # Calculate average loss and accuracy\n",
        "    avg_train_loss = running_loss / len(data_loader.dataset)\n",
        "    avg_train_acc = (correct / len(data_loader.dataset)) * 100\n",
        "\n",
        "    print(f\">>> Train loss: {avg_train_loss:.4f} ---- Accuracy Train: {avg_train_acc:.2f}%\")\n",
        "\n",
        "    return avg_train_loss, avg_train_acc\n"
      ],
      "metadata": {
        "id": "24gm_pMk6jav"
      },
      "execution_count": null,
      "outputs": []
    },
    {
      "cell_type": "code",
      "source": [
        "from sklearn.metrics import precision_score, recall_score, roc_auc_score, matthews_corrcoef\n",
        "from sklearn.preprocessing import label_binarize\n",
        "\n",
        "def test_model(model, criterion, data_loader, device):\n",
        "    model.eval()\n",
        "\n",
        "    val_loss = 0.0\n",
        "    correct = 0\n",
        "    all_labels = []\n",
        "    all_predictions = []\n",
        "\n",
        "    with torch.no_grad():\n",
        "        for inputs, labels in data_loader:\n",
        "            # Move inputs and labels to the appropriate device\n",
        "            inputs = inputs.to(device)\n",
        "            labels = labels.to(device)\n",
        "\n",
        "            # Forward pass\n",
        "            outputs = model(inputs).logits  # Accessing logits if using Hugging Face model\n",
        "            loss = criterion(outputs, labels)\n",
        "            val_loss += loss.item() * inputs.size(0)\n",
        "\n",
        "            # Calculate predictions\n",
        "            _, predicted = torch.max(outputs, 1)\n",
        "            correct += (predicted == labels).sum().item()\n",
        "\n",
        "            # Collect all labels and predictions for metric calculation\n",
        "            all_labels.extend(labels.cpu().numpy())\n",
        "            all_predictions.extend(predicted.cpu().numpy())\n",
        "\n",
        "    # Calculate average validation loss and accuracy\n",
        "    avg_val_acc = (correct / len(data_loader.dataset)) * 100\n",
        "    avg_val_loss = val_loss / len(data_loader.dataset)\n",
        "\n",
        "    # Calculate precision, recall, sensitivity, specificity, MCC, and AUC\n",
        "    precision = precision_score(all_labels, all_predictions, average='weighted')\n",
        "    recall = recall_score(all_labels, all_predictions, average='weighted')\n",
        "    sensitivity = recall_score(all_labels, all_predictions, average='macro')\n",
        "    specificity = recall_score(all_labels, all_predictions, average='macro')\n",
        "    mcc = matthews_corrcoef(all_labels, all_predictions)\n",
        "\n",
        "    # AUC calculation\n",
        "    if len(set(all_labels)) > 2:  # Multiclass\n",
        "        auc = roc_auc_score(label_binarize(all_labels, classes=np.unique(all_labels)), label_binarize(all_predictions, classes=np.unique(all_labels)), average='macro', multi_class='ovr')\n",
        "    else:  # Binary\n",
        "        auc = roc_auc_score(all_labels, all_predictions)\n",
        "\n",
        "    # Print scores\n",
        "    print(\">>> Validation loss {:.4f} ---- Validation Accuracy {:.2f}%\".format(avg_val_loss, avg_val_acc))\n",
        "    print(f\"Recall: {recall:.4f}\")\n",
        "    print(f\"Precision: {precision:.4f}\")\n",
        "    print(f\"Sensitivity: {sensitivity:.4f}\")\n",
        "    print(f\"Specificity: {specificity:.4f}\")\n",
        "    print(f\"Matthews Correlation Coefficient: {mcc:.4f}\")\n",
        "    print(f\"Area Under Curve: {auc:.4f}\")\n",
        "\n",
        "    return avg_val_loss, avg_val_acc\n"
      ],
      "metadata": {
        "id": "7U2bYYrN6qRN"
      },
      "execution_count": null,
      "outputs": []
    },
    {
      "cell_type": "code",
      "source": [
        "num_epochs = 5\n",
        "history = {\"train_loss\": [], \"train_acc\": [], \"val_loss\": [], \"val_acc\": []}\n",
        "\n",
        "for epoch in range(num_epochs):\n",
        "    print(f\"------------------ Training Epoch {epoch+1} ------------------\")\n",
        "    train_loss, train_acc = train_model(model, optimizer, criterion, train_dataloader, device)\n",
        "    val_loss, val_acc = test_model(model, criterion, test_dataloader, device)\n",
        "\n",
        "    history[\"train_loss\"].append(train_loss)\n",
        "    history[\"train_acc\"].append(train_acc)\n",
        "    history[\"val_loss\"].append(val_loss)\n",
        "    history[\"val_acc\"].append(val_acc)"
      ],
      "metadata": {
        "colab": {
          "base_uri": "https://localhost:8080/"
        },
        "id": "c07SZAM-6ruf",
        "outputId": "3ad2ba45-73f8-432c-9885-5b690d3c20ad"
      },
      "execution_count": null,
      "outputs": [
        {
          "output_type": "stream",
          "name": "stdout",
          "text": [
            "------------------ Training Epoch 1 ------------------\n",
            ">>> Train loss: 1.5437 ---- Accuracy Train: 45.63%\n",
            ">>> Validation loss 1.1003 ---- Validation Accuracy 81.82%\n",
            "Recall: 0.8182\n",
            "Precision: 0.8273\n",
            "Sensitivity: 0.8172\n",
            "Specificity: 0.8172\n",
            "Matthews Correlation Coefficient: 0.7826\n",
            "Area Under Curve: 0.8903\n",
            "------------------ Training Epoch 2 ------------------\n",
            ">>> Train loss: 0.9069 ---- Accuracy Train: 89.86%\n",
            ">>> Validation loss 0.6592 ---- Validation Accuracy 92.31%\n",
            "Recall: 0.9231\n",
            "Precision: 0.9254\n",
            "Sensitivity: 0.9253\n",
            "Specificity: 0.9253\n",
            "Matthews Correlation Coefficient: 0.9074\n",
            "Area Under Curve: 0.9549\n",
            "------------------ Training Epoch 3 ------------------\n",
            ">>> Train loss: 0.5202 ---- Accuracy Train: 94.93%\n",
            ">>> Validation loss 0.4106 ---- Validation Accuracy 95.10%\n",
            "Recall: 0.9510\n",
            "Precision: 0.9526\n",
            "Sensitivity: 0.9569\n",
            "Specificity: 0.9569\n",
            "Matthews Correlation Coefficient: 0.9411\n",
            "Area Under Curve: 0.9735\n",
            "------------------ Training Epoch 4 ------------------\n",
            ">>> Train loss: 0.3314 ---- Accuracy Train: 95.63%\n",
            ">>> Validation loss 0.2823 ---- Validation Accuracy 95.80%\n",
            "Recall: 0.9580\n",
            "Precision: 0.9605\n",
            "Sensitivity: 0.9649\n",
            "Specificity: 0.9649\n",
            "Matthews Correlation Coefficient: 0.9497\n",
            "Area Under Curve: 0.9783\n",
            "------------------ Training Epoch 5 ------------------\n",
            ">>> Train loss: 0.2336 ---- Accuracy Train: 96.15%\n",
            ">>> Validation loss 0.2159 ---- Validation Accuracy 95.80%\n",
            "Recall: 0.9580\n",
            "Precision: 0.9605\n",
            "Sensitivity: 0.9649\n",
            "Specificity: 0.9649\n",
            "Matthews Correlation Coefficient: 0.9497\n",
            "Area Under Curve: 0.9783\n"
          ]
        }
      ]
    },
    {
      "cell_type": "code",
      "source": [
        "tr_acc = history[\"train_acc\"]\n",
        "tr_loss = history[\"train_loss\"]\n",
        "val_acc = history[\"val_acc\"]\n",
        "val_loss = history[\"val_loss\"]\n",
        "\n",
        "\n",
        "index_loss = np.argmin(val_loss)\n",
        "val_lowest = val_loss[index_loss]\n",
        "index_acc = np.argmax(val_acc)\n",
        "acc_highest = val_acc[index_acc]\n",
        "Epochs = [i+1 for i in range(len(tr_acc))]\n",
        "loss_label = f'best epoch= {str(index_loss + 1)}'\n",
        "acc_label = f'best epoch= {str(index_acc + 1)}'\n",
        "\n",
        "# Plot training history\n",
        "plt.figure(figsize= (20, 8))\n",
        "plt.style.use('fivethirtyeight')\n",
        "\n",
        "plt.subplot(1, 2, 1)\n",
        "plt.plot(Epochs, tr_loss, 'r', label= 'Training loss')\n",
        "plt.plot(Epochs, val_loss, 'g', label= 'Validation loss')\n",
        "plt.scatter(index_loss + 1, val_lowest, s= 150, c= 'blue', label= loss_label)\n",
        "plt.title('Training and Validation Loss')\n",
        "plt.xlabel('Epochs')\n",
        "plt.ylabel('Loss')\n",
        "plt.legend()\n",
        "\n",
        "plt.subplot(1, 2, 2)\n",
        "plt.plot(Epochs, tr_acc, 'r', label= 'Training Accuracy')\n",
        "plt.plot(Epochs, val_acc, 'g', label= 'Validation Accuracy')\n",
        "plt.scatter(index_acc + 1 , acc_highest, s= 150, c= 'blue', label= acc_label)\n",
        "plt.title('Training and Validation Accuracy')\n",
        "plt.xlabel('Epochs')\n",
        "plt.ylabel('Accuracy')\n",
        "plt.legend()\n",
        "\n",
        "plt.tight_layout\n",
        "plt.show()"
      ],
      "metadata": {
        "colab": {
          "base_uri": "https://localhost:8080/",
          "height": 300
        },
        "id": "21nA2cqC-Ori",
        "outputId": "156877d1-3316-49bb-954f-7339aba0b9fe"
      },
      "execution_count": null,
      "outputs": [
        {
          "output_type": "display_data",
          "data": {
            "text/plain": [
              "<Figure size 2000x800 with 2 Axes>"
            ],
            "image/png": "[encoded data removed]"
          },
          "metadata": {}
        }
      ]
    },
    {
      "cell_type": "code",
      "source": [
        "import numpy as np\n",
        "import matplotlib.pyplot as plt\n",
        "from sklearn.metrics import roc_curve, auc, precision_score, recall_score, matthews_corrcoef, roc_auc_score\n",
        "from sklearn.preprocessing import label_binarize\n",
        "\n",
        "def test_model1(model, criterion, data_loader, device):\n",
        "    model.eval()\n",
        "\n",
        "    val_loss = 0.0\n",
        "    correct = 0\n",
        "    all_labels = []\n",
        "    all_predictions = []\n",
        "    all_probs = []\n",
        "\n",
        "    with torch.no_grad():\n",
        "        for inputs, labels in data_loader:\n",
        "            inputs = inputs.to(device)\n",
        "            labels = labels.to(device)\n",
        "\n",
        "            # Forward pass\n",
        "            outputs = model(inputs).logits\n",
        "            loss = criterion(outputs, labels)\n",
        "            val_loss += loss.item() * inputs.size(0)\n",
        "\n",
        "            # Calculate predictions and probabilities\n",
        "            probs = torch.softmax(outputs, dim=1)\n",
        "            _, predicted = torch.max(outputs, 1)\n",
        "            correct += (predicted == labels).sum().item()\n",
        "\n",
        "            # Collect all labels, predictions, and probabilities for metric calculation and ROC curve\n",
        "            all_labels.extend(labels.cpu().numpy())\n",
        "            all_predictions.extend(predicted.cpu().numpy())\n",
        "            all_probs.extend(probs.cpu().numpy())\n",
        "\n",
        "    # Calculate average validation loss and accuracy\n",
        "    avg_val_acc = (correct / len(data_loader.dataset)) * 100\n",
        "    avg_val_loss = val_loss / len(data_loader.dataset)\n",
        "\n",
        "    # Calculate precision, recall, MCC\n",
        "    precision = precision_score(all_labels, all_predictions, average='weighted')\n",
        "    recall = recall_score(all_labels, all_predictions, average='weighted')\n",
        "    mcc = matthews_corrcoef(all_labels, all_predictions)\n",
        "\n",
        "        # ROC Curve\n",
        "    num_classes = len(np.unique(all_labels))\n",
        "    fpr = dict()\n",
        "    tpr = dict()\n",
        "    roc_auc = dict()\n",
        "    all_probs_array = np.array(all_probs)  # Convert list of arrays to numpy array\n",
        "    for i in range(num_classes):\n",
        "        # Access correct elements and reshape if necessary\n",
        "        probs_for_class_i = all_probs_array[:, i]  # Access probabilities for class i\n",
        "        fpr[i], tpr[i], _ = roc_curve(label_binarize(all_labels, classes=np.unique(all_labels))[:, i], probs_for_class_i)\n",
        "        roc_auc[i] = auc(fpr[i], tpr[i])\n",
        "\n",
        "\n",
        "    # Plot ROC Curves\n",
        "    plt.figure()\n",
        "    for i in range(num_classes):\n",
        "        plt.plot(fpr[i], tpr[i], label=f'Class {i} (AUC = {roc_auc[i]:0.2f})')\n",
        "    plt.plot([0, 1], [0, 1], 'k--')\n",
        "    plt.xlim([0.0, 1.0])\n",
        "    plt.ylim([0.0, 1.05])\n",
        "    plt.xlabel('False Positive Rate')\n",
        "    plt.ylabel('True Positive Rate')\n",
        "    plt.title('ROC Curve')\n",
        "    plt.legend(loc=\"lower right\")\n",
        "    plt.show()\n",
        "\n",
        "    # Print scores\n",
        "    print(\">>> Validation loss {:.4f} ---- Validation Accuracy {:.2f}%\".format(avg_val_loss, avg_val_acc))\n",
        "    print(f\"Precision: {precision:.4f}\")\n",
        "    print(f\"Recall: {recall:.4f}\")\n",
        "    print(f\"Matthews Correlation Coefficient: {mcc:.4f}\")\n",
        "\n",
        "    return avg_val_loss, avg_val_acc\n"
      ],
      "metadata": {
        "id": "m3ISiErI-bOs"
      },
      "execution_count": null,
      "outputs": []
    },
    {
      "cell_type": "code",
      "source": [
        "# test_model1(model, criterion, test_dataloader, device)"
      ],
      "metadata": {
        "id": "vE0Sf3Pw-h4c"
      },
      "execution_count": null,
      "outputs": []
    }
  ]
}